{
 "cells": [
  {
   "cell_type": "markdown",
   "id": "f892a272",
   "metadata": {},
   "source": [
    "# Movie Review Classification (IMDB) — `num_words=200`\n",
    "This notebook is a revised version of `3.5-classifying-movie-reviews.ipynb` that:\n",
    "- limits the vocabulary to the **200 most frequent words** (`num_words=200`),\n",
    "- trains a simple dense network,\n",
    "- plots training & validation accuracy vs epochs,\n",
    "- selects the best epoch by validation accuracy, retrains on train+val, and reports **test accuracy**."
   ]
  },
  {
   "cell_type": "code",
   "execution_count": null,
   "id": "5775d964",
   "metadata": {},
   "outputs": [],
   "source": [
    "# Setup\n",
    "import numpy as np\n",
    "import matplotlib.pyplot as plt\n",
    "from sklearn.model_selection import train_test_split\n",
    "from tensorflow import keras\n",
    "from tensorflow.keras import layers\n"
   ]
  },
  {
   "cell_type": "code",
   "execution_count": null,
   "id": "3d50c375",
   "metadata": {},
   "outputs": [],
   "source": [
    "# 1) Load IMDB with vocabulary capped at 200 most frequent words\n",
    "NUM_WORDS = 200\n",
    "\n",
    "# The IMDB dataset comes tokenized as integer sequences of word indices (by frequency).\n",
    "(x_train, y_train), (x_test, y_test) = keras.datasets.imdb.load_data(num_words=NUM_WORDS)\n",
    "\n",
    "# Optional: peek at one example length\n",
    "len(x_train[0]), y_train[0]\n"
   ]
  },
  {
   "cell_type": "code",
   "execution_count": null,
   "id": "58ab8dd1",
   "metadata": {},
   "outputs": [],
   "source": [
    "# 2) Vectorize sequences via multi-hot encoding into dimension NUM_WORDS\n",
    "def vectorize(seqs, dimension=NUM_WORDS):\n",
    "    X = np.zeros((len(seqs), dimension), dtype=\"float32\")\n",
    "    for i, seq in enumerate(seqs):\n",
    "        for idx in seq:\n",
    "            if 0 <= idx < dimension:\n",
    "                X[i, idx] = 1.0\n",
    "    return X\n",
    "\n",
    "X_train = vectorize(x_train, NUM_WORDS)\n",
    "X_test  = vectorize(x_test,  NUM_WORDS)\n",
    "\n",
    "X_train.shape, X_test.shape\n"
   ]
  },
  {
   "cell_type": "code",
   "execution_count": null,
   "id": "b0e6eac3",
   "metadata": {},
   "outputs": [],
   "source": [
    "# 3) Train/Validation split (hold-out validation; we'll later retrain on train+val using the best epoch)\n",
    "X_tr, X_val, y_tr, y_val = train_test_split(X_train, y_train, test_size=10000, shuffle=False)\n",
    "\n",
    "# 4) Build the model (simple baseline; small capacity due to tiny vocab)\n",
    "def build_model():\n",
    "    model = keras.Sequential([\n",
    "        layers.Input(shape=(NUM_WORDS,)),\n",
    "        layers.Dense(32, activation='relu'),\n",
    "        layers.Dense(16, activation='relu'),\n",
    "        layers.Dense(1, activation='sigmoid')\n",
    "    ])\n",
    "    model.compile(optimizer=keras.optimizers.Adam(1e-3),\n",
    "                  loss='binary_crossentropy',\n",
    "                  metrics=['accuracy'])\n",
    "    return model\n",
    "\n",
    "model = build_model()\n",
    "history = model.fit(\n",
    "    X_tr, y_tr,\n",
    "    epochs=30,\n",
    "    batch_size=512,\n",
    "    validation_data=(X_val, y_val),\n",
    "    verbose=1\n",
    ")\n",
    "\n",
    "# 5) Plot training & validation accuracy\n",
    "acc = history.history['accuracy']\n",
    "val_acc = history.history['val_accuracy']\n",
    "epochs = range(1, len(acc) + 1)\n",
    "\n",
    "plt.figure(figsize=(8,4))\n",
    "plt.plot(epochs, acc, label='Training acc')\n",
    "plt.plot(epochs, val_acc, label='Validation acc')\n",
    "plt.xlabel('Epochs')\n",
    "plt.ylabel('Accuracy')\n",
    "plt.title('Training vs Validation Accuracy (num_words=200)')\n",
    "plt.legend()\n",
    "plt.tight_layout()\n",
    "plt.show()\n",
    "\n",
    "# Determine best epoch by validation accuracy\n",
    "best_epoch = int(np.argmax(val_acc)) + 1\n",
    "print(f\"Best epoch by validation accuracy: {best_epoch}\")"
   ]
  },
  {
   "cell_type": "code",
   "execution_count": null,
   "id": "39403553",
   "metadata": {},
   "outputs": [],
   "source": [
    "# 6) Retrain a fresh model on (train + val) for the best number of epochs, then evaluate on test\n",
    "model2 = build_model()\n",
    "X_full = np.concatenate([X_tr, X_val], axis=0)\n",
    "y_full = np.concatenate([y_tr, y_val], axis=0)\n",
    "\n",
    "model2.fit(X_full, y_full, epochs=best_epoch, batch_size=512, verbose=1)\n",
    "test_loss, test_acc = model2.evaluate(X_test, y_test, verbose=0)\n",
    "print(f\"\\nTest accuracy with best-epoch ({best_epoch}) model: {test_acc:.4f}\")"
   ]
  },
  {
   "cell_type": "markdown",
   "id": "3bddfe10",
   "metadata": {},
   "source": [
    "### What does `x_train[0]` represent?\n",
    "`x_train[0]` is the **first training review** represented as a list of **integer word indices**, where each integer corresponds to a word ranked by frequency in the training corpus. Because we set `num_words=200`, only indices in `[0, 199]` are kept; rarer words are filtered out. The indices are not the original words—just their frequency-based IDs (with several low integers reserved for special tokens in the Keras IMDB loader). The raw sequence length varies by review."
   ]
  }
 ],
 "metadata": {},
 "nbformat": 4,
 "nbformat_minor": 5
}
